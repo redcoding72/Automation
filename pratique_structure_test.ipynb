{
  "cells": [
    {
      "cell_type": "markdown",
      "metadata": {
        "id": "view-in-github",
        "colab_type": "text"
      },
      "source": [
        "<a href=\"https://colab.research.google.com/github/redcoding72/Automation/blob/main/pratique_structure_test.ipynb\" target=\"_parent\"><img src=\"https://colab.research.google.com/assets/colab-badge.svg\" alt=\"Open In Colab\"/></a>"
      ]
    },
    {
      "cell_type": "markdown",
      "metadata": {
        "id": "wHDRAkW8xRSC"
      },
      "source": [
        "# Création de fonctions"
      ]
    },
    {
      "cell_type": "code",
      "execution_count": 24,
      "metadata": {
        "colab": {
          "base_uri": "https://localhost:8080/"
        },
        "id": "Kk67E3PMxRSI",
        "outputId": "fcf648fd-c703-4dad-813c-abd006f4c664"
      },
      "outputs": [
        {
          "name": "stdout",
          "output_type": "stream",
          "text": [
            "Saisir la temperature:33\n"
          ]
        }
      ],
      "source": [
        "#Saisir la température\n",
        " \n",
        "t =int(input(\"Saisir la temperature:\"))\n",
        "\n",
        "\n"
      ]
    },
    {
      "cell_type": "code",
      "execution_count": 25,
      "metadata": {
        "id": "8QS8iaauxRSL"
      },
      "outputs": [],
      "source": [
        "#Déterminer l'activité\n",
        " \n",
        "if t >= 25:\n",
        "    activite = \"faire de la natation\"\n",
        "elif t >= 18 < 25:\n",
        "  activite = \"faire du tennis\"\n",
        "elif t > 2 < 18:\n",
        "  activite = \"faire une randonnée dans les bois\"\n",
        "elif t < 2:\n",
        "  activite = \"faire du ski\"\n",
        "\n",
        "\n",
        "\n"
      ]
    },
    {
      "cell_type": "code",
      "execution_count": 27,
      "metadata": {
        "colab": {
          "base_uri": "https://localhost:8080/"
        },
        "id": "7Z86HFEhxRSL",
        "outputId": "9af6606f-a169-4471-f551-d5a4f0d37b59"
      },
      "outputs": [
        {
          "output_type": "stream",
          "name": "stdout",
          "text": [
            "L’activité proposée est faire de la natation\n"
          ]
        }
      ],
      "source": [
        "#Afficher l'activité proposée\n",
        " \n",
        "     \n",
        "print(\"L’activité proposée est {}\".format(activite))\n",
        "        \n",
        "        \n",
        "        \n",
        "        \n",
        "        \n",
        "        \n",
        " "
      ]
    },
    {
      "cell_type": "markdown",
      "metadata": {
        "id": "sAgVw0CFxRSM"
      },
      "source": [
        "# Solutionnaire"
      ]
    },
    {
      "cell_type": "markdown",
      "metadata": {
        "id": "zkATqORwxRSN"
      },
      "source": [
        "* Note importante: on peut améliorer la solution suivante en introduisant une vérification de la saisie et des pseudo-constantes"
      ]
    },
    {
      "cell_type": "code",
      "execution_count": null,
      "metadata": {
        "id": "ufsletrmxRSO",
        "outputId": "0f4d46c7-7ed8-4a52-84ae-683cd62e9f7a"
      },
      "outputs": [
        {
          "name": "stdout",
          "output_type": "stream",
          "text": [
            "Saisir la temperature:33\n",
            "L'activité proposée est:natation\n"
          ]
        }
      ],
      "source": [
        "#Saisir la température\n",
        "temperature = int(input(\"Saisir la temperature:\"))\n",
        "\n",
        "#Détermination d'activité\n",
        "if temperature < 2:\n",
        "    activite = \"ski\"\n",
        "elif temperature < 18:\n",
        "    activite = \"randonnée dans les bois\"\n",
        "elif temperature < 25:\n",
        "    activite = \"tennis\"\n",
        "else:\n",
        "    activite = \"natation\"\n",
        "\n",
        "#Affichage du résultat\n",
        "print(\"L'activité proposée est:{}\".format(activite))\n",
        "    \n",
        "\n"
      ]
    }
  ],
  "metadata": {
    "kernelspec": {
      "display_name": "Python 3",
      "language": "python",
      "name": "python3"
    },
    "language_info": {
      "codemirror_mode": {
        "name": "ipython",
        "version": 3
      },
      "file_extension": ".py",
      "mimetype": "text/x-python",
      "name": "python",
      "nbconvert_exporter": "python",
      "pygments_lexer": "ipython3",
      "version": "3.8.5"
    },
    "colab": {
      "name": "pratique_structure_test.ipynb",
      "provenance": [],
      "include_colab_link": true
    }
  },
  "nbformat": 4,
  "nbformat_minor": 0
}