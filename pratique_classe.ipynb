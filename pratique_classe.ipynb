{
  "cells": [
    {
      "cell_type": "markdown",
      "metadata": {
        "id": "view-in-github",
        "colab_type": "text"
      },
      "source": [
        "<a href=\"https://colab.research.google.com/github/redcoding72/Automation/blob/main/pratique_classe.ipynb\" target=\"_parent\"><img src=\"https://colab.research.google.com/assets/colab-badge.svg\" alt=\"Open In Colab\"/></a>"
      ]
    },
    {
      "cell_type": "markdown",
      "metadata": {
        "id": "UdcPLEZb_HHi"
      },
      "source": [
        "# Création d'une classe"
      ]
    },
    {
      "cell_type": "code",
      "execution_count": null,
      "metadata": {
        "colab": {
          "base_uri": "https://localhost:8080/"
        },
        "id": "5pOaBibS_HHv",
        "outputId": "dc1052ec-f5b6-491a-ec80-ceb05bed1b33"
      },
      "outputs": [
        {
          "output_type": "stream",
          "name": "stdout",
          "text": [
            "Employé : Nom: Alain, Prenom: flouflou,  Code: 118907, Salaire: 7800\n",
            "Employé : Nom: Abdel, Prenom: FlouClair,  Code: 118910, Salaire: 8450\n",
            "Employé : Nom: Annie, Prenom: ClairClair,  Code: 118987, Salaire: 720\n",
            "Alain\n",
            "Est un employé assidu\n"
          ]
        }
      ],
      "source": [
        "#definir la classe Employe\n",
        "class Employe:\n",
        "  def __init__(self, nom, prenom, code, salaire):\n",
        "    self.nom = nom\n",
        "    self.prenom = prenom\n",
        "    self.code = code\n",
        "    self.salaire = salaire\n",
        "  def __str__(self):\n",
        "    return \"Employé : Nom: {}, Prenom: {},  Code: {}, Salaire: {}\".format(self.nom, self.prenom, self.code, self.salaire)\n",
        "  def faire_travail(self):\n",
        "    print(\"Est un employé assidu\")\n",
        "\n",
        "#instantiation des objets\n",
        "obj1 = Employe(\"Alain\", \"flouflou\", 118907, 7800)\n",
        "obj2 = Employe(\"Abdel\", \"FlouClair\", 118910, 8450)\n",
        "obj3 = Employe(\"Annie\", \"ClairClair\", 118987, 720)\n",
        "\n",
        "#Afficher l'état des objets\n",
        "print(obj1)\n",
        "print(obj2)\n",
        "print(obj3)\n",
        "print(obj1.nom)\n",
        "\n",
        "#Executer la methode faire_travai()\n",
        "obj1.faire_travail()\n",
        "       "
      ]
    },
    {
      "cell_type": "code",
      "execution_count": null,
      "metadata": {
        "id": "bME9-cKN_HHz"
      },
      "outputs": [],
      "source": [
        "#instantiation des objets\n",
        " "
      ]
    },
    {
      "cell_type": "code",
      "execution_count": null,
      "metadata": {
        "id": "aMCF0dN9_HH0"
      },
      "outputs": [],
      "source": [
        "\n",
        " "
      ]
    },
    {
      "cell_type": "code",
      "execution_count": null,
      "metadata": {
        "id": "TLT-KT_c_HH1"
      },
      "outputs": [],
      "source": [
        "\n",
        " "
      ]
    },
    {
      "cell_type": "markdown",
      "metadata": {
        "id": "Tvc3hfCG_HH2"
      },
      "source": [
        "# Solutionnaire"
      ]
    },
    {
      "cell_type": "code",
      "execution_count": null,
      "metadata": {
        "id": "5R6xA1Fn_HH3"
      },
      "outputs": [],
      "source": [
        "#definir la classe Employe\n",
        "class Employe:\n",
        "    def __init__(self, nom, prenom, code, salaire):\n",
        "        self.nom = nom\n",
        "        self.prenom = prenom\n",
        "        self.code = code\n",
        "        self.salaire = salaire\n",
        "        \n",
        "    def __str__(self):\n",
        "        return \"Nom:{}, prenom:{}, code:{}, salaire:{}\".format(self.nom, self.prenom, self.code, self.salaire)\n",
        "    \n",
        "    def faire_travail(self):\n",
        "        print(\"Je suis un employé assidu\") ;\n",
        "        "
      ]
    },
    {
      "cell_type": "code",
      "execution_count": null,
      "metadata": {
        "id": "zP7UjsTL_HH5"
      },
      "outputs": [],
      "source": [
        "#instantiation des objets\n",
        "obj1 = Employe(\"Alain\", \"Flouflou\",  118907, 7800)\n",
        "obj2 = Employe(\"Abdel\", \"FlouClair\", 118910, 8450)\n",
        "obj3 = Employe(\"Annie\",\"ClairClair\", 118987, 7720)"
      ]
    },
    {
      "cell_type": "code",
      "execution_count": null,
      "metadata": {
        "id": "zcuqVY_q_HH7",
        "outputId": "aedcadab-fbbf-41d3-d436-b09082763e37"
      },
      "outputs": [
        {
          "name": "stdout",
          "output_type": "stream",
          "text": [
            "Nom:Alain, prenom:Flouflou, code:118907, salaire:7800\n",
            "Nom:Abdel, prenom:FlouClair, code:118910, salaire:8450\n",
            "Nom:Annie, prenom:ClairClair, code:118987, salaire:7720\n"
          ]
        }
      ],
      "source": [
        "#Afficher l'état des objets\n",
        "print(obj1)\n",
        "print(obj2)\n",
        "print(obj3)"
      ]
    },
    {
      "cell_type": "code",
      "execution_count": null,
      "metadata": {
        "id": "WInJZ17C_HH_",
        "outputId": "fd748517-0b5d-479a-da41-33dd5be1d450"
      },
      "outputs": [
        {
          "name": "stdout",
          "output_type": "stream",
          "text": [
            "Je suis un employé assidu\n"
          ]
        }
      ],
      "source": [
        "#Executer la methode faire_travai()\n",
        "obj1.faire_travail()"
      ]
    }
  ],
  "metadata": {
    "kernelspec": {
      "display_name": "Python 3",
      "language": "python",
      "name": "python3"
    },
    "language_info": {
      "codemirror_mode": {
        "name": "ipython",
        "version": 3
      },
      "file_extension": ".py",
      "mimetype": "text/x-python",
      "name": "python",
      "nbconvert_exporter": "python",
      "pygments_lexer": "ipython3",
      "version": "3.8.5"
    },
    "colab": {
      "name": "pratique_classe.ipynb",
      "provenance": [],
      "include_colab_link": true
    }
  },
  "nbformat": 4,
  "nbformat_minor": 0
}