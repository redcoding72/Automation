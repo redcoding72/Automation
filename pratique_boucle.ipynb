{
  "cells": [
    {
      "cell_type": "markdown",
      "metadata": {
        "id": "view-in-github",
        "colab_type": "text"
      },
      "source": [
        "<a href=\"https://colab.research.google.com/github/redcoding72/Automation/blob/main/pratique_boucle.ipynb\" target=\"_parent\"><img src=\"https://colab.research.google.com/assets/colab-badge.svg\" alt=\"Open In Colab\"/></a>"
      ]
    },
    {
      "cell_type": "markdown",
      "metadata": {
        "id": "GfYQqUv1W_rj"
      },
      "source": [
        "# Pratique sur les boucles"
      ]
    },
    {
      "cell_type": "code",
      "execution_count": null,
      "metadata": {
        "colab": {
          "base_uri": "https://localhost:8080/"
        },
        "id": "YQ-5ygfmW_rr",
        "outputId": "1e2a95dd-2bb5-473e-8ee3-d3e26ac11ddb"
      },
      "outputs": [
        {
          "output_type": "stream",
          "name": "stdout",
          "text": [
            "id  :  c200\n",
            "name  :  Aler pacinod\n",
            "email  :  pacinod@gmail.com\n",
            "address  :  124 rue des mimosas\n",
            "gender  :  male\n",
            "phone  :  {'mobile': '514 555-1234', 'home': '514 555-4536', 'office': '514 555-7890'}\n",
            "==================================================\n",
            "id  :  c201\n",
            "name  :  dohnny Topp\n",
            "email  :  dohnny_Topp@gmail.com\n",
            "address  :  954 rue des iris montreal\n",
            "gender  :  male\n",
            "phone  :  {'mobile': '514 555-9874', 'home': '514 555-4561', 'office': '514 555-1230'}\n",
            "==================================================\n",
            "id  :  c202\n",
            "name  :  Oleono capprio\n",
            "email  :  Oleono_capprio@gmail.com\n",
            "address  :  874 rue des chenes quebec\n",
            "gender  :  male\n",
            "phone  :  {'mobile': '514 555-5644', 'home': '514 555-6985', 'office': '514 555-7845'}\n",
            "==================================================\n",
            "id  :  c203\n",
            "name  :  Johe Bayne\n",
            "email  :  Johe_Bayne@gmail.com\n",
            "address  :  98 rue des orchides quebec\n",
            "gender  :  male\n",
            "phone  :  {'mobile': '514 555-1010', 'home': '514 555-2020', 'office': '514 555-3030'}\n",
            "==================================================\n",
            "id  :  c204\n",
            "name  :  Mina Jolie\n",
            "email  :  mina_jolie@gmail.com\n",
            "address  :  74 rue des tulipes Montreal\n",
            "gender  :  female\n",
            "phone  :  {'mobile': '514 555-4141', 'home': '514 555-5151', 'office': '514 555-6161'}\n",
            "==================================================\n",
            "id  :  c205\n",
            "name  :  kido Lio\n",
            "email  :  did_lioo@gmail.com\n",
            "address  :  101 rue des fleurs Montreal\n",
            "gender  :  female\n",
            "phone  :  {'mobile': '514 555-7474', 'home': '514 555-8484', 'office': '514 555-9494'}\n",
            "==================================================\n",
            "id  :  c206\n",
            "name  :  Adele Poli\n",
            "email  :  adele_poli@gmail.com\n",
            "address  :  45 rue des platanes ottawa\n",
            "gender  :  female\n",
            "phone  :  {'mobile': '514 555-6363', 'home': '514 555-5353', 'office': '514 555-4343'}\n",
            "==================================================\n",
            "id  :  c207\n",
            "name  :  Hug Blinkman\n",
            "email  :  Hug_Blinkman@gmail.com\n",
            "address  :  12 rue du midi Longueuil\n",
            "gender  :  male\n",
            "phone  :  {'mobile': '514 555-5454', 'home': '514 555-6464', 'office': '514 555-8474'}\n",
            "==================================================\n",
            "id  :  c208\n",
            "name  :  Wildo Kmith\n",
            "email  :  Wildo_Kmith@gmail.com\n",
            "address  :  14 rue du parc, MTL\n",
            "gender  :  male\n",
            "phone  :  {'mobile': '+514 555-8745', 'home': '514 555-2525', 'office': '514 555-2416'}\n",
            "==================================================\n"
          ]
        }
      ],
      "source": [
        "import json\n",
        "fici = open(\"contacts.json\")\n",
        " \n",
        "reponse = json.load(fici)\n",
        "#Evaluer le contenu de reponse \n",
        "#print(reponse)\n",
        "data = reponse[\"contacts\"]\n",
        "#Afficher chacun des contacts\n",
        "for rec in data:\n",
        "  for k,v in rec.items():\n",
        "    print(k,\" : \",v)\n",
        "  print(\"=\" * 50)\n",
        "\n",
        "\n",
        "\n"
      ]
    },
    {
      "cell_type": "markdown",
      "metadata": {
        "id": "TuMBXlEtW_ru"
      },
      "source": [
        "# Solutionnaires"
      ]
    },
    {
      "cell_type": "code",
      "execution_count": null,
      "metadata": {
        "id": "Yx9PpPRmW_rv",
        "outputId": "ffd180bf-bb2b-4218-8661-6eaf6fc4ed15"
      },
      "outputs": [
        {
          "name": "stdout",
          "output_type": "stream",
          "text": [
            "id : c200\n",
            "name : Aler pacinod\n",
            "email : pacinod@gmail.com\n",
            "address : 124 rue des mimosas\n",
            "gender : male\n",
            "phone : {'mobile': '514 555-1234', 'home': '514 555-4536', 'office': '514 555-7890'}\n",
            "==================================================\n",
            "id : c201\n",
            "name : dohnny Topp\n",
            "email : dohnny_Topp@gmail.com\n",
            "address : 954 rue des iris montreal\n",
            "gender : male\n",
            "phone : {'mobile': '514 555-9874', 'home': '514 555-4561', 'office': '514 555-1230'}\n",
            "==================================================\n",
            "id : c202\n",
            "name : Oleono capprio\n",
            "email : Oleono_capprio@gmail.com\n",
            "address : 874 rue des chenes quebec\n",
            "gender : male\n",
            "phone : {'mobile': '514 555-5644', 'home': '514 555-6985', 'office': '514 555-7845'}\n",
            "==================================================\n",
            "id : c203\n",
            "name : Johe Bayne\n",
            "email : Johe_Bayne@gmail.com\n",
            "address : 98 rue des orchides quebec\n",
            "gender : male\n",
            "phone : {'mobile': '514 555-1010', 'home': '514 555-2020', 'office': '514 555-3030'}\n",
            "==================================================\n",
            "id : c204\n",
            "name : Mina Jolie\n",
            "email : mina_jolie@gmail.com\n",
            "address : 74 rue des tulipes Montreal\n",
            "gender : female\n",
            "phone : {'mobile': '514 555-4141', 'home': '514 555-5151', 'office': '514 555-6161'}\n",
            "==================================================\n",
            "id : c205\n",
            "name : kido Lio\n",
            "email : did_lioo@gmail.com\n",
            "address : 101 rue des fleurs Montreal\n",
            "gender : female\n",
            "phone : {'mobile': '514 555-7474', 'home': '514 555-8484', 'office': '514 555-9494'}\n",
            "==================================================\n",
            "id : c206\n",
            "name : Adele Poli\n",
            "email : adele_poli@gmail.com\n",
            "address : 45 rue des platanes ottawa\n",
            "gender : female\n",
            "phone : {'mobile': '514 555-6363', 'home': '514 555-5353', 'office': '514 555-4343'}\n",
            "==================================================\n",
            "id : c207\n",
            "name : Hug Blinkman\n",
            "email : Hug_Blinkman@gmail.com\n",
            "address : 12 rue du midi Longueuil\n",
            "gender : male\n",
            "phone : {'mobile': '514 555-5454', 'home': '514 555-6464', 'office': '514 555-8474'}\n",
            "==================================================\n",
            "id : c208\n",
            "name : Wildo Kmith\n",
            "email : Wildo_Kmith@gmail.com\n",
            "address : 14 rue du parc, MTL\n",
            "gender : male\n",
            "phone : {'mobile': '+514 555-8745', 'home': '514 555-2525', 'office': '514 555-2416'}\n",
            "==================================================\n"
          ]
        }
      ],
      "source": [
        "import json\n",
        "fici = open(\"contacts.json\")\n",
        " \n",
        "reponse = json.load(fici)\n",
        "#print(reponse)\n",
        "data = reponse[\"contacts\"]\n",
        "\n",
        "for rec in data:\n",
        "    for k,v in rec.items():\n",
        "        print(k,\":\",v)\n",
        "    print(\"=\" * 50)"
      ]
    }
  ],
  "metadata": {
    "kernelspec": {
      "display_name": "Python 3",
      "language": "python",
      "name": "python3"
    },
    "language_info": {
      "codemirror_mode": {
        "name": "ipython",
        "version": 3
      },
      "file_extension": ".py",
      "mimetype": "text/x-python",
      "name": "python",
      "nbconvert_exporter": "python",
      "pygments_lexer": "ipython3",
      "version": "3.8.5"
    },
    "colab": {
      "name": "Copie de pratique_boucle.ipynb",
      "provenance": [],
      "include_colab_link": true
    }
  },
  "nbformat": 4,
  "nbformat_minor": 0
}